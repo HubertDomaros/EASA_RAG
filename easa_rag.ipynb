{
 "nbformat": 4,
 "nbformat_minor": 0,
 "metadata": {
  "colab": {
   "provenance": []
  },
  "kernelspec": {
   "name": "python3",
   "display_name": "Python 3 (ipykernel)",
   "language": "python"
  },
  "language_info": {
   "name": "python"
  }
 },
 "cells": [
  {
   "cell_type": "markdown",
   "source": [
    "# Collect your data and store it in a pandas dataframe"
   ],
   "metadata": {
    "id": "7uO1h9Izn7i6"
   }
  },
  {
   "metadata": {
    "id": "atDA3y-goCxy",
    "ExecuteTime": {
     "end_time": "2025-01-26T22:25:01.817967Z",
     "start_time": "2025-01-26T22:11:03.586553Z"
    }
   },
   "cell_type": "code",
   "source": [
    "import os\n",
    "import spacy\n",
    "from spacy_layout import spaCyLayout\n",
    "from spacy.tokens import DocBin\n",
    "\n",
    "nlp = spacy.load('en_core_web_sm')\n",
    "layout = spaCyLayout(nlp)\n",
    "\n",
    "pdf_path = \"CS-25.pdf\"\n",
    "pdf = layout(pdf_path)"
   ],
   "outputs": [],
   "execution_count": 23
  },
  {
   "metadata": {},
   "cell_type": "code",
   "source": [
    "# Ensure output folder exists\n",
    "os.makedirs('docbin', exist_ok=True)\n",
    "\n",
    "doc_bin = DocBin(store_user_data=True)\n",
    "doc_bin.add(pdf)\n",
    "\n",
    "output_path = os.path.join('docbin\\\\', 'CS-25.spacy')\n",
    "with open(output_path, \"wb\") as output_file:\n",
    "    output_file.write(doc_bin.to_bytes())\n",
    "\n"
   ],
   "outputs": [],
   "execution_count": null
  },
  {
   "metadata": {},
   "cell_type": "code",
   "source": [
    "dbin = DocBin(store_user_data=True)\n",
    "pdf = dbin.from_disk('docbin\\\\CS-25.spacy')\n",
    "\n",
    "spacy_docs = list(dbin.get_docs(nlp.vocab))[0]"
   ],
   "outputs": [],
   "execution_count": null
  },
  {
   "cell_type": "markdown",
   "source": [
    "# Initialize vector database"
   ],
   "metadata": {
    "id": "LisA3Wphn0qA"
   }
  },
  {
   "cell_type": "code",
   "metadata": {
    "id": "h0e6Dmj2nMVS",
    "ExecuteTime": {
     "end_time": "2025-01-27T22:24:57.536734Z",
     "start_time": "2025-01-27T22:24:57.520329Z"
    }
   },
   "source": [
    "from qdrant_client import models, QdrantClient\n",
    "from qdrant_client.models import PointStruct\n",
    "from sentence_transformers import SentenceTransformer"
   ],
   "outputs": [],
   "execution_count": 15
  },
  {
   "cell_type": "code",
   "source": [
    "encoder = SentenceTransformer('all-MiniLM-L6-v2') # Model to create embeddings"
   ],
   "metadata": {
    "id": "QrpS7V-unRqv",
    "ExecuteTime": {
     "end_time": "2025-01-27T22:13:17.569238Z",
     "start_time": "2025-01-27T22:13:14.785366Z"
    }
   },
   "outputs": [],
   "execution_count": 8
  },
  {
   "metadata": {
    "ExecuteTime": {
     "end_time": "2025-01-27T23:21:45.902470Z",
     "start_time": "2025-01-27T23:21:24.154387Z"
    }
   },
   "cell_type": "code",
   "source": "doc_embeddings = encoder.encode(spacy_docs.text.split('\\n'))",
   "outputs": [],
   "execution_count": 75
  },
  {
   "cell_type": "code",
   "source": [
    "# create the vector database client\n",
    "qdrant = QdrantClient(\":memory:\") # Create in-memory Qdrant instance"
   ],
   "metadata": {
    "id": "fON7TGhknWGL",
    "ExecuteTime": {
     "end_time": "2025-01-27T23:21:49.044019Z",
     "start_time": "2025-01-27T23:21:49.025382Z"
    }
   },
   "outputs": [],
   "execution_count": 77
  },
  {
   "cell_type": "code",
   "source": [
    "qdrant.create_collection(\n",
    "    collection_name=\"CS-25\",\n",
    "    vectors_config=models.VectorParams(\n",
    "        size=encoder.get_sentence_embedding_dimension(), # Vector size is defined by used model\n",
    "        distance=models.Distance.COSINE\n",
    "    )\n",
    ")"
   ],
   "metadata": {
    "id": "CmUKg5Y9nZDp",
    "ExecuteTime": {
     "end_time": "2025-01-27T23:21:49.847875Z",
     "start_time": "2025-01-27T23:21:49.838241Z"
    }
   },
   "outputs": [
    {
     "data": {
      "text/plain": [
       "True"
      ]
     },
     "execution_count": 78,
     "metadata": {},
     "output_type": "execute_result"
    }
   ],
   "execution_count": 78
  },
  {
   "metadata": {
    "ExecuteTime": {
     "end_time": "2025-01-27T23:21:56.467610Z",
     "start_time": "2025-01-27T23:21:54.489494Z"
    }
   },
   "cell_type": "code",
   "source": [
    "points = []\n",
    "sentences = spacy_docs.text.split('\\n')\n",
    "for i in range(len(doc_embeddings)):\n",
    "    points.append(PointStruct(id=i,\n",
    "                              vector=[doc_embeddings[i].tolist()],\n",
    "                              payload={'text': sentences[i]}\n",
    "                              ))"
   ],
   "outputs": [],
   "execution_count": 79
  },
  {
   "metadata": {
    "ExecuteTime": {
     "end_time": "2025-01-27T23:22:04.568616Z",
     "start_time": "2025-01-27T23:21:59.002102Z"
    }
   },
   "cell_type": "code",
   "source": "qdrant.upsert('CS-25', points)",
   "outputs": [
    {
     "name": "stderr",
     "output_type": "stream",
     "text": [
      "C:\\Users\\Hubert\\AppData\\Local\\Temp\\ipykernel_25716\\1706469614.py:1: UserWarning: Local mode is not recommended for collections with more than 20,000 points. Current collection contains 54889 points. Consider using Qdrant in Docker or Qdrant Cloud for better performance with large datasets.\n",
      "  qdrant.upsert('CS-25', points)\n"
     ]
    },
    {
     "data": {
      "text/plain": [
       "UpdateResult(operation_id=0, status=<UpdateStatus.COMPLETED: 'completed'>)"
      ]
     },
     "execution_count": 80,
     "metadata": {},
     "output_type": "execute_result"
    }
   ],
   "execution_count": 80
  },
  {
   "cell_type": "code",
   "source": [
    "hits = qdrant.search(\n",
    "    collection_name=\"CS-25\",\n",
    "    query_vector=encoder.encode(\"What are requirements for recertifying damaged airplane\").tolist(),\n",
    "    limit=3\n",
    ")\n",
    "for hit in hits:\n",
    "  print(hit.payload, \"score:\", hit.score)"
   ],
   "metadata": {
    "id": "TUn59d0inrVh",
    "ExecuteTime": {
     "end_time": "2025-01-27T23:22:15.921973Z",
     "start_time": "2025-01-27T23:22:15.596190Z"
    }
   },
   "outputs": [
    {
     "name": "stderr",
     "output_type": "stream",
     "text": [
      "C:\\Users\\Hubert\\AppData\\Local\\Temp\\ipykernel_25716\\594734857.py:1: DeprecationWarning: `search` method is deprecated and will be removed in the future. Use `query_points` instead.\n",
      "  hits = qdrant.search(\n"
     ]
    },
    {
     "name": "stdout",
     "output_type": "stream",
     "text": [
      "{'text': '(i) Failure  Conditions per CS  25.671(c)(1)  and  (c)(2).  It  should  be  shown  that  the aeroplane maintains structural integrity for continued safe flight and landing. This should  be  accomplished  by  demonstrating  compliance  with  CS 25.302,  where applicable, unless otherwise agreed with EASA.'} score: 0.5730004375136402\n",
      "{'text': 'Note: This paragraph applies only to aircraft with a certification basis including CS 25.571 or equivalent requirements for damage tolerance.'} score: 0.5613018831487608\n",
      "{'text': 'It must be shown that the aeroplane is capable of successfully completing a flight during which specified incidents occur and result in immediately obvious damage. The maximum extent of the damage must be quantified and the structure must be shown to be capable of sustaining the maximum load (considered as ultimate) expected during the completion of the flight. There are no maintenance actions that result from this evaluation.'} score: 0.5510611021642535\n"
     ]
    }
   ],
   "execution_count": 81
  },
  {
   "cell_type": "code",
   "source": [
    "# define a variable to hold the search results\n",
    "search_results = [hit.payload['text'] for hit in hits]"
   ],
   "metadata": {
    "id": "PIOqPccPoV9F",
    "ExecuteTime": {
     "end_time": "2025-01-27T23:51:25.461115Z",
     "start_time": "2025-01-27T23:51:25.446452Z"
    }
   },
   "outputs": [],
   "execution_count": 90
  },
  {
   "metadata": {
    "ExecuteTime": {
     "end_time": "2025-01-27T23:53:35.027662Z",
     "start_time": "2025-01-27T23:53:35.013997Z"
    }
   },
   "cell_type": "code",
   "source": "search_results",
   "outputs": [
    {
     "data": {
      "text/plain": [
       "['(i) Failure  Conditions per CS  25.671(c)(1)  and  (c)(2).  It  should  be  shown  that  the aeroplane maintains structural integrity for continued safe flight and landing. This should  be  accomplished  by  demonstrating  compliance  with  CS 25.302,  where applicable, unless otherwise agreed with EASA.',\n",
       " 'Note: This paragraph applies only to aircraft with a certification basis including CS 25.571 or equivalent requirements for damage tolerance.',\n",
       " 'It must be shown that the aeroplane is capable of successfully completing a flight during which specified incidents occur and result in immediately obvious damage. The maximum extent of the damage must be quantified and the structure must be shown to be capable of sustaining the maximum load (considered as ultimate) expected during the completion of the flight. There are no maintenance actions that result from this evaluation.']"
      ]
     },
     "execution_count": 94,
     "metadata": {},
     "output_type": "execute_result"
    }
   ],
   "execution_count": 94
  },
  {
   "cell_type": "code",
   "source": [
    "# Now time to connect to the large language model\n",
    "from openai import OpenAI\n",
    "client = OpenAI(\n",
    "    api_key = os.environ[\"OPENAI_KEY\"]\n",
    ")\n",
    "completion = client.chat.completions.create(\n",
    "    model=\"gpt-4\",\n",
    "    messages=[\n",
    "        {\"role\": \"system\", \"content\": \"You are expert EASA inspector. Your primary role is to ensure safety of airplanes you are about to certify.\"\n",
    "                                      \"Your responses should be clear and unambiguous. If you don't know the answer, say 'I don't know the answer.'\"},\n",
    "        {\"role\": \"user\", \"content\": \"What are requirements for recertifying damaged airplane?\"},\n",
    "        {\"role\": \"assistant\", \"content\": '\\n'.join(search_results)}\n",
    "    ]\n",
    ")\n",
    "print(completion.choices[0].message)"
   ],
   "metadata": {
    "id": "HzyYrbzCoaQI",
    "ExecuteTime": {
     "end_time": "2025-01-27T23:54:19.607279Z",
     "start_time": "2025-01-27T23:54:09.914797Z"
    }
   },
   "outputs": [
    {
     "name": "stdout",
     "output_type": "stream",
     "text": [
      "ChatCompletionMessage(content=\"The recertification process of a damaged airplane includes several steps such as:\\n\\n1. Thorough Inspection: The aircraft must undergo a comprehensive assessment to determine the extent of the damage. This includes not only the visible damage but also any potential internal or structural damage that might have occurred.\\n\\n2. Repair: Based on the damage assessment report, all necessary repairs must be carried out. This must be done by certified personnel and should adhere to the aircraft manufacturer's maintenance manual or other approved FAA maintenance procedures.\\n\\n3. Testing: Following the repairs, the aircraft needs to be tested to ensure that all the systems are working correctly. This includes operational checks as well as flight tests.\\n\\n4. Documentation: All the repair and testing processes need to be documented per EASA regulations. The documentation needs to provide enough details about all the steps taken during the repair and testing process.\\n\\n5. Certification: Once the inspection, repair, testing, and documentation have been completed, a certified aircraft maintenance engineer needs to sign off that the aircraft is airworthy and can be put back into service. \\n\\n6. Lastly, an inspection by an EASA certified inspector is necessary to validate the processes used and to officially recertify the aircraft.\\n\\nRemember, safety is paramount; hence, each stage of the recertification must comply with EASA safety standards and regulations.\", refusal=None, role='assistant', audio=None, function_call=None, tool_calls=None)\n"
     ]
    }
   ],
   "execution_count": 95
  }
 ]
}
