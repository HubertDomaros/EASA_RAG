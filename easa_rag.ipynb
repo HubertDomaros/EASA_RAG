{
 "nbformat": 4,
 "nbformat_minor": 0,
 "metadata": {
  "colab": {
   "provenance": []
  },
  "kernelspec": {
   "name": "python3",
   "display_name": "Python 3 (ipykernel)",
   "language": "python"
  },
  "language_info": {
   "name": "python"
  }
 },
 "cells": [
  {
   "cell_type": "markdown",
   "source": [
    "# Collect your data and store it in a pandas dataframe"
   ],
   "metadata": {
    "id": "7uO1h9Izn7i6"
   }
  },
  {
   "metadata": {
    "id": "atDA3y-goCxy",
    "ExecuteTime": {
     "end_time": "2025-01-28T00:16:26.970797Z",
     "start_time": "2025-01-28T00:16:26.397676Z"
    }
   },
   "cell_type": "code",
   "source": [
    "import os\n",
    "import spacy\n",
    "from spacy_layout import spaCyLayout\n",
    "from spacy.tokens import DocBin\n",
    "from dotenv import load_dotenv\n",
    "\n",
    "load_dotenv()\n",
    "\n",
    "nlp = spacy.load('en_core_web_sm')\n",
    "layout = spaCyLayout(nlp)\n",
    "\n",
    "pdf_path = \"CS-25.pdf\"\n",
    "pdf = layout(pdf_path)"
   ],
   "outputs": [],
   "execution_count": 24
  },
  {
   "metadata": {},
   "cell_type": "code",
   "source": [
    "# Ensure output folder exists\n",
    "os.makedirs('docbin', exist_ok=True)\n",
    "\n",
    "doc_bin = DocBin(store_user_data=True)\n",
    "doc_bin.add(pdf)\n",
    "\n",
    "output_path = os.path.join('docbin\\\\', 'CS-25.spacy')\n",
    "with open(output_path, \"wb\") as output_file:\n",
    "    output_file.write(doc_bin.to_bytes())\n",
    "\n"
   ],
   "outputs": [],
   "execution_count": null
  },
  {
   "metadata": {
    "ExecuteTime": {
     "end_time": "2025-01-28T00:06:07.386258Z",
     "start_time": "2025-01-28T00:06:06.058844Z"
    }
   },
   "cell_type": "code",
   "source": [
    "dbin = DocBin(store_user_data=True)\n",
    "pdf = dbin.from_disk('docbin\\\\CS-25.spacy')\n",
    "\n",
    "spacy_docs = list(dbin.get_docs(nlp.vocab))[0]"
   ],
   "outputs": [],
   "execution_count": 2
  },
  {
   "cell_type": "markdown",
   "source": [
    "# Initialize vector database"
   ],
   "metadata": {
    "id": "LisA3Wphn0qA"
   }
  },
  {
   "cell_type": "code",
   "metadata": {
    "id": "h0e6Dmj2nMVS",
    "ExecuteTime": {
     "end_time": "2025-01-28T00:06:15.597646Z",
     "start_time": "2025-01-28T00:06:08.312444Z"
    }
   },
   "source": [
    "from qdrant_client import models, QdrantClient\n",
    "from qdrant_client.models import PointStruct\n",
    "from sentence_transformers import SentenceTransformer"
   ],
   "outputs": [
    {
     "name": "stdout",
     "output_type": "stream",
     "text": [
      "WARNING:tensorflow:From C:\\Users\\Hubert\\.conda\\envs\\NLP\\Lib\\site-packages\\tf_keras\\src\\losses.py:2976: The name tf.losses.sparse_softmax_cross_entropy is deprecated. Please use tf.compat.v1.losses.sparse_softmax_cross_entropy instead.\n",
      "\n"
     ]
    }
   ],
   "execution_count": 3
  },
  {
   "cell_type": "code",
   "source": [
    "encoder = SentenceTransformer('all-MiniLM-L6-v2') # Model to create embeddings"
   ],
   "metadata": {
    "id": "QrpS7V-unRqv",
    "ExecuteTime": {
     "end_time": "2025-01-28T00:06:18.272318Z",
     "start_time": "2025-01-28T00:06:15.949444Z"
    }
   },
   "outputs": [],
   "execution_count": 4
  },
  {
   "metadata": {
    "ExecuteTime": {
     "end_time": "2025-01-28T00:06:36.255870Z",
     "start_time": "2025-01-28T00:06:18.654591Z"
    }
   },
   "cell_type": "code",
   "source": "doc_embeddings = encoder.encode(spacy_docs.text.split('\\n'))",
   "outputs": [],
   "execution_count": 5
  },
  {
   "cell_type": "code",
   "source": [
    "# create the vector database client\n",
    "qdrant = QdrantClient(\":memory:\") # Create in-memory Qdrant instance"
   ],
   "metadata": {
    "id": "fON7TGhknWGL",
    "ExecuteTime": {
     "end_time": "2025-01-28T00:06:36.672101Z",
     "start_time": "2025-01-28T00:06:36.660093Z"
    }
   },
   "outputs": [],
   "execution_count": 6
  },
  {
   "cell_type": "code",
   "source": [
    "qdrant.create_collection(\n",
    "    collection_name=\"CS-25\",\n",
    "    vectors_config=models.VectorParams(\n",
    "        size=encoder.get_sentence_embedding_dimension(), # Vector size is defined by used model\n",
    "        distance=models.Distance.COSINE\n",
    "    )\n",
    ")"
   ],
   "metadata": {
    "id": "CmUKg5Y9nZDp",
    "ExecuteTime": {
     "end_time": "2025-01-28T00:06:37.049661Z",
     "start_time": "2025-01-28T00:06:37.041962Z"
    }
   },
   "outputs": [
    {
     "data": {
      "text/plain": [
       "True"
      ]
     },
     "execution_count": 7,
     "metadata": {},
     "output_type": "execute_result"
    }
   ],
   "execution_count": 7
  },
  {
   "metadata": {
    "ExecuteTime": {
     "end_time": "2025-01-28T00:06:39.500756Z",
     "start_time": "2025-01-28T00:06:37.416628Z"
    }
   },
   "cell_type": "code",
   "source": [
    "points = []\n",
    "sentences = spacy_docs.text.split('\\n')\n",
    "for i in range(len(doc_embeddings)):\n",
    "    points.append(PointStruct(id=i,\n",
    "                              vector=[doc_embeddings[i].tolist()],\n",
    "                              payload={'text': sentences[i]}\n",
    "                              ))"
   ],
   "outputs": [],
   "execution_count": 8
  },
  {
   "metadata": {},
   "cell_type": "code",
   "source": "qdrant.upsert('CS-25', points)",
   "outputs": [],
   "execution_count": null
  },
  {
   "cell_type": "code",
   "source": [
    "hits = qdrant.query_points(\n",
    "    collection_name=\"CS-25\",\n",
    "    query=encoder.encode(\"What are requirements for recertifying damaged airplane\").tolist(),\n",
    "    with_payload=True,\n",
    "    limit=3\n",
    ")\n",
    "for hit in hits.points:\n",
    "  print(hit.payload, \"score:\", hit.score)"
   ],
   "metadata": {
    "id": "TUn59d0inrVh",
    "ExecuteTime": {
     "end_time": "2025-01-28T00:12:25.155220Z",
     "start_time": "2025-01-28T00:12:25.003108Z"
    }
   },
   "outputs": [
    {
     "name": "stdout",
     "output_type": "stream",
     "text": [
      "{'text': '(i) Failure  Conditions per CS  25.671(c)(1)  and  (c)(2).  It  should  be  shown  that  the aeroplane maintains structural integrity for continued safe flight and landing. This should  be  accomplished  by  demonstrating  compliance  with  CS 25.302,  where applicable, unless otherwise agreed with EASA.'} score: 0.5730004375136402\n",
      "{'text': 'Note: This paragraph applies only to aircraft with a certification basis including CS 25.571 or equivalent requirements for damage tolerance.'} score: 0.5613018831487608\n",
      "{'text': 'It must be shown that the aeroplane is capable of successfully completing a flight during which specified incidents occur and result in immediately obvious damage. The maximum extent of the damage must be quantified and the structure must be shown to be capable of sustaining the maximum load (considered as ultimate) expected during the completion of the flight. There are no maintenance actions that result from this evaluation.'} score: 0.5510611021642535\n"
     ]
    }
   ],
   "execution_count": 21
  },
  {
   "metadata": {
    "ExecuteTime": {
     "end_time": "2025-01-28T00:11:38.406841Z",
     "start_time": "2025-01-28T00:11:38.230923Z"
    }
   },
   "cell_type": "code",
   "source": [
    "hits = qdrant.query_points(collection_name=\"CS-25\", query=encoder.encode(\"What are requirements for recertifying damaged airplane\").tolist(),\n",
    "                           with_payload=True, limit=3)\n",
    "hits.points[0].payload"
   ],
   "outputs": [
    {
     "data": {
      "text/plain": [
       "{'text': '(i) Failure  Conditions per CS  25.671(c)(1)  and  (c)(2).  It  should  be  shown  that  the aeroplane maintains structural integrity for continued safe flight and landing. This should  be  accomplished  by  demonstrating  compliance  with  CS 25.302,  where applicable, unless otherwise agreed with EASA.'}"
      ]
     },
     "execution_count": 19,
     "metadata": {},
     "output_type": "execute_result"
    }
   ],
   "execution_count": 19
  },
  {
   "cell_type": "code",
   "source": [
    "# define a variable to hold the search results\n",
    "search_results = [hit.payload['text'] for hit in hits.points]"
   ],
   "metadata": {
    "id": "PIOqPccPoV9F",
    "ExecuteTime": {
     "end_time": "2025-01-28T00:12:40.129378Z",
     "start_time": "2025-01-28T00:12:40.118926Z"
    }
   },
   "outputs": [],
   "execution_count": 22
  },
  {
   "cell_type": "code",
   "source": [
    "# Now time to connect to the large language model\n",
    "from openai import OpenAI\n",
    "import streamlit as st\n",
    "client = OpenAI(\n",
    "    api_key = os.environ[\"OPENAI_KEY\"]\n",
    ")\n",
    "\n",
    "\n",
    "completion = client.chat.completions.create(\n",
    "    model=\"gpt-4\",\n",
    "    messages=[\n",
    "        {\"role\": \"system\", \"content\": \"You are expert EASA inspector. Your primary role is to ensure safety of airplanes you are about to certify.\"\n",
    "                                      \"Your responses should be clear and unambiguous. If you don't know the answer, say 'I don't know the answer.'\"},\n",
    "        {\"role\": \"user\", \"content\": \"What are requirements for recertifying damaged airplane?\"},\n",
    "        {\"role\": \"assistant\", \"content\": '\\n'.join(search_results)}\n",
    "    ]\n",
    ")\n",
    "print(completion.choices[0].message)"
   ],
   "metadata": {
    "id": "HzyYrbzCoaQI",
    "ExecuteTime": {
     "end_time": "2025-01-28T00:29:50.302502Z",
     "start_time": "2025-01-28T00:29:37.728996Z"
    }
   },
   "outputs": [
    {
     "name": "stdout",
     "output_type": "stream",
     "text": [
      "ChatCompletionMessage(content=\"To recertify a damaged airplane, the following requirements typically apply, although it can vary depending on the type, extent, and location of the damage:\\n\\n1. Repair: The first step is that the damage must be appropriately fixed. This may range from minor fixes to major structural repairs. The airplane must be restored to its original or properly altered condition that complies with its type design.\\n\\n2. Inspection: After repairs, the aircraft must undergo an extensive inspection by an authorized inspector. They will examine the structural integrity and verify the condition and operation of all systems and components.\\n\\n3. Documentation: All maintenance work, including repairs and inspections, have to be correctly documented following EASA regulations. \\n\\n4. Test Flight: If necessary, the aircraft may need to undergo a test flight after the repairs, following a pre-established test plan that should cover all areas in which the aircraft's performance might have been affected by the damage and its repair.\\n   \\n5. Conformity to Airworthiness Directives (ADs) and Service Bulletins (SBs): It's important that all relevant ADs and SBs have been accomplished before an aircraft is recertified.\\n\\n6. AD/SB Compliance and airworthiness review: The aircraft should undergo an airworthiness review either by a staff from EASA or a representative from an approved organization. If the airplane is found to comply with airworthiness requirements, the inspector will issue an airworthiness review certificate (ARC).\\n\\nRemember that the exact requirements can vary and this is a broad generalization. Always consult with an EASA expert or representative for specific cases.\", refusal=None, role='assistant', audio=None, function_call=None, tool_calls=None)\n"
     ]
    }
   ],
   "execution_count": 28
  }
 ]
}
